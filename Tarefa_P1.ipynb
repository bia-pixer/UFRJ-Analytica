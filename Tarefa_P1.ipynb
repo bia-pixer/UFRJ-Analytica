{
 "cells": [
  {
   "cell_type": "markdown",
   "metadata": {},
   "source": [
    "# Tarefa de Programação - P1\n",
    "\n",
    "Para a resolução dos exercícios dos tópicos 1 a 3, utilizei a função get_number, definida abaixo. Seu objetivo é solicitar um input numérico ao usuário e validar a resposta recebida. A princípio, qualquer input recebido é armazenado como string, então é necessário transformá-lo em um tipo dado numérico - em geral, em um float. Caso não seja possível fazer essa transformação, subentende-se que o input inserido pelo usuário não se trata de um número e a execução é interrompida. Caso o input seja reconhecido como um número, é validado se ele está dentro dos limites estabelecidos pela função (exercício 1.3.3). Em caso negativo, a função é chamada recursivamente até que o usuário insira um valor adequado."
   ]
  },
  {
   "cell_type": "code",
   "execution_count": 1,
   "metadata": {},
   "outputs": [],
   "source": [
    "def get_number(datatype = float, user_message = \"Insira um número: \", limits = (None, None)):\n",
    "    number= input(user_message)\n",
    "    try:\n",
    "        number= datatype(number)\n",
    "        if limits[0] != None and number < limits[0] or limits[1] != None and number > limits[1]:\n",
    "            number = get_number(datatype=datatype, user_message=f\"Insira um número que pertença ao intervalo {limits}.\", limits=limits)\n",
    "        return number\n",
    "    except:\n",
    "        raise ValueError(\"Você não inseriu um número válido. Tente novamente.\")"
   ]
  },
  {
   "cell_type": "markdown",
   "metadata": {},
   "source": [
    "## 1.1. Entrada e saída de dados\n",
    "Faça um programa que peça ao usuário a inserção de dois números e seu programa calculará a média e mostrará o resultado na tela."
   ]
  },
  {
   "cell_type": "code",
   "execution_count": 2,
   "metadata": {},
   "outputs": [
    {
     "name": "stdout",
     "output_type": "stream",
     "text": [
      "A média dos números [4.56 3.2 ] é igual a 3.88.\n"
     ]
    }
   ],
   "source": [
    "import numpy as np\n",
    "\n",
    "number_1 = get_number()\n",
    "number_2 = get_number()\n",
    "\n",
    "numbers = np.array((number_1, number_2))\n",
    "print(f\"A média dos números {numbers} é igual a {np.mean(numbers)}.\")"
   ]
  },
  {
   "cell_type": "markdown",
   "metadata": {},
   "source": [
    "## 1.2. Estruturas de Controle\n",
    "1.2.1. Faça um programa que pergunte ao usuário ‘Qual sua equipe favorita?’ e receba o input de uma frase. Seu programa deve responder de acordo com a frase inserida:\n",
    "a. Se a frase for ‘UFRJ ANALYTICA’, mostre na tela a frase ‘Minha equipe favorita ́e UFRJ ANALYTICA’.\n",
    "b. Senão, mostre na tela ‘Frase Inesperada’.\n",
    "\n",
    "A princípio, se  comparássemos o input do usuário com a string \"UFRJ ANALYTICA\", o sistema consideraria as maíusculas e minúsculas como valores difentes. Portanto, ao utilizar o \".upper()\", colocamos as strings na mesma base de comparação, ou seja, todos os valores maiúsculos, antes de avaliar a resposta."
   ]
  },
  {
   "cell_type": "code",
   "execution_count": 3,
   "metadata": {},
   "outputs": [
    {
     "name": "stdout",
     "output_type": "stream",
     "text": [
      "Minha equipe favorita é a UFRJ ANALYTICA.\n"
     ]
    }
   ],
   "source": [
    "equipe = input(\"Qual a sua equipe favorita? \").upper()\n",
    "\n",
    "if(equipe == \"UFRJ ANALYTICA\"):\n",
    "    print(f\"Minha equipe favorita é a {equipe}.\")\n",
    "else:\n",
    "    print(\"Frase inesperada.\")"
   ]
  },
  {
   "cell_type": "markdown",
   "metadata": {},
   "source": [
    "1.2.2. Faça um programa que peça dois números ao usuário e imprima na tela o maior deles ou, caso sejam iguais, imprima ‘Números iguais’.\n",
    "\n",
    "Utilizando a função get_number() para contornar o problema das entradas inválidas, é possível determinar o maior dos números usando a função de máximo."
   ]
  },
  {
   "cell_type": "code",
   "execution_count": 12,
   "metadata": {},
   "outputs": [
    {
     "name": "stdout",
     "output_type": "stream",
     "text": [
      "O maior valor entre [584.   584.74] é 584.74\n"
     ]
    }
   ],
   "source": [
    "number_1 = get_number()\n",
    "number_2 = get_number()\n",
    "numbers = np.array((number_1, number_2))\n",
    "\n",
    "if number_1 == number_2:\n",
    "    print(\"Números iguais.\")\n",
    "else:\n",
    "    print(f\"O maior valor entre {numbers} é {max(numbers)}\")"
   ]
  },
  {
   "cell_type": "markdown",
   "metadata": {},
   "source": [
    "## 1.3. Estruturas de Repetição\n",
    "1.3.1. Faça um programa que recebe um número e imprime cada número de 1 até esse número recebido.\n",
    "\n",
    "A contagem dos índices se inicia em 0, portanto, para que o input também seja impresso no console, adicionei 1 ao índice. Somado a isso, caso o input seja negativo ou positivo, o step deverá ser diferente."
   ]
  },
  {
   "cell_type": "code",
   "execution_count": 13,
   "metadata": {},
   "outputs": [
    {
     "name": "stdout",
     "output_type": "stream",
     "text": [
      "1\n",
      "0\n",
      "-1\n",
      "-2\n",
      "-3\n",
      "-4\n",
      "-5\n",
      "-6\n"
     ]
    }
   ],
   "source": [
    "repeat = get_number(datatype=int)\n",
    "\n",
    "if repeat > 0:\n",
    "    for i in range(1, repeat+1):\n",
    "        print(i)\n",
    "elif repeat <= 0:\n",
    "    for i in range(1, repeat-1, -1):\n",
    "        print(i)"
   ]
  },
  {
   "cell_type": "markdown",
   "metadata": {},
   "source": [
    "1.3.2. Faça um programa que primeiro peça a quantidade de membros da equipe e, em seguida, para cada membro, peça o seu nome e imprima na tela uma mensagem de boas vindas ‘Ola nome, seja bem-vindo!’."
   ]
  },
  {
   "cell_type": "code",
   "execution_count": 6,
   "metadata": {},
   "outputs": [
    {
     "name": "stdout",
     "output_type": "stream",
     "text": [
      "Olá Bianca, seja bem-vindo!\n",
      "Olá Maria, seja bem-vindo!\n",
      "Olá Julia, seja bem-vindo!\n"
     ]
    }
   ],
   "source": [
    "n_members = get_number(datatype=int, user_message=\"Qual a quantidade de membros da equipe? \", limits=(0, None))\n",
    "\n",
    "if n_members == 0:\n",
    "    print(\"Essa equipe não tem membros.\")\n",
    "else:\n",
    "    for i in range(0, n_members):\n",
    "        name = input(\"Qual o seu nome? \")\n",
    "        print(f\"Olá {name}, seja bem-vindo!\")"
   ]
  },
  {
   "cell_type": "markdown",
   "metadata": {},
   "source": [
    "1.3.3. Faça uma calculadora de soma que recebe dois números entre 0 e 9 e mostre sua soma na tela. Verifique se os números de fato estão dentro do intervalo, senão peça para escrever novamente até estar correto."
   ]
  },
  {
   "cell_type": "code",
   "execution_count": 7,
   "metadata": {},
   "outputs": [
    {
     "name": "stdout",
     "output_type": "stream",
     "text": [
      "A soma de 5.0 e 2.0 é igual a 7.0.\n"
     ]
    }
   ],
   "source": [
    "number_1 = get_number(limits=(0,9))\n",
    "number_2 = get_number(limits=(0,9))\n",
    "\n",
    "print(f\"A soma de {number_1} e {number_2} é igual a {number_1+number_2}.\")"
   ]
  },
  {
   "cell_type": "markdown",
   "metadata": {},
   "source": [
    "## 1.4. Estrutura de Dados\n",
    "1.4.1. Faça um programa cuja primeira linha consiste na seguinte lista e em seguida peça ao usuário um nome e imprima uma mensagem dizendo se este nome está ou não na lista."
   ]
  },
  {
   "cell_type": "code",
   "execution_count": 8,
   "metadata": {},
   "outputs": [
    {
     "name": "stdout",
     "output_type": "stream",
     "text": [
      "O nome digitado está entre os competidores\n"
     ]
    }
   ],
   "source": [
    "competidores = [\"joao\", \"carlos\", \"patricia\", \"caio\", \"leticia\"]\n",
    "nome = input(\"Escreva um nome, sem acentos ortográficos.\").lower()\n",
    "\n",
    "if nome in competidores:\n",
    "    print(\"O nome digitado está entre os competidores\")\n",
    "else:\n",
    "    print(\"O nome digitado não está entre os competidores.\")"
   ]
  },
  {
   "cell_type": "markdown",
   "metadata": {},
   "source": [
    "1.4.2. Crie um dicionário do Python com as seguintes informações do formato chave-valor e em seguida peça ao usuário um nome e imprima qual a equipe a pessoa participa. Se o nome não existir na lista imprima que o nome não existe."
   ]
  },
  {
   "cell_type": "code",
   "execution_count": 14,
   "metadata": {},
   "outputs": [
    {
     "name": "stdout",
     "output_type": "stream",
     "text": [
      "O nome camila não está entre os competidores.\n"
     ]
    }
   ],
   "source": [
    "competidores = {\n",
    "    \"joao\":\"competicao\",\n",
    "    \"carlos\" : \"desenvolvimento\",\n",
    "    \"patricia\": \"competicao\",\n",
    "    \"caio\": \"competicao\",\n",
    "    \"leticia\": \"gestao\"\n",
    "}\n",
    "\n",
    "nome = input(\"Escreva um nome, sem acentos ortográficos.\").lower()\n",
    "if nome in competidores:\n",
    "    print(f\"{nome} pertence à equipe de {competidores[nome]}\")\n",
    "else:\n",
    "    print(f\"O nome {nome} não está entre os competidores.\")"
   ]
  },
  {
   "cell_type": "markdown",
   "metadata": {},
   "source": [
    "## 1.5. Funções e Reaproveitamento de código\n",
    "1.5.1. Crie uma função que recebe um número n e imprima na mesma linha, com espaços n vezes o valor."
   ]
  },
  {
   "cell_type": "code",
   "execution_count": 10,
   "metadata": {},
   "outputs": [
    {
     "name": "stdout",
     "output_type": "stream",
     "text": [
      "45 45 45 45 45 45 45 45 45 45 45 45 45 45 45 45 45 45 45 45 45 45 45 45 45 45 45 45 45 45 45 45 45 45 45 45 45 45 45 45 45 45 45 45 45 "
     ]
    }
   ],
   "source": [
    "def repeat_n(n):\n",
    "    for i in range(n):\n",
    "        print(n, end=\" \")\n",
    "\n",
    "repeat_n(get_number(datatype=int))"
   ]
  },
  {
   "cell_type": "markdown",
   "metadata": {},
   "source": [
    "1.5.2. Faça um programa que receba um número n e imprima em cada linha k vezes o número relativo à linha, usando a função criada na questão anterior para fazer a impressão das linhas."
   ]
  },
  {
   "cell_type": "code",
   "execution_count": 15,
   "metadata": {},
   "outputs": [
    {
     "name": "stdout",
     "output_type": "stream",
     "text": [
      "\n",
      "1 \n",
      "2 2 \n",
      "3 3 3 \n",
      "4 4 4 4 \n",
      "5 5 5 5 5 \n",
      "6 6 6 6 6 6 \n",
      "7 7 7 7 7 7 7 \n",
      "8 8 8 8 8 8 8 8 \n",
      "9 9 9 9 9 9 9 9 9 \n",
      "10 10 10 10 10 10 10 10 10 10 \n",
      "11 11 11 11 11 11 11 11 11 11 11 \n",
      "12 12 12 12 12 12 12 12 12 12 12 12 \n"
     ]
    }
   ],
   "source": [
    "def repeat_n_k_lines(n):\n",
    "    for k in range(n+1):\n",
    "        repeat_n(k)\n",
    "        print(end=\"\\n\")\n",
    "\n",
    "repeat_n_k_lines(get_number(datatype=int))"
   ]
  }
 ],
 "metadata": {
  "kernelspec": {
   "display_name": "base",
   "language": "python",
   "name": "python3"
  },
  "language_info": {
   "codemirror_mode": {
    "name": "ipython",
    "version": 3
   },
   "file_extension": ".py",
   "mimetype": "text/x-python",
   "name": "python",
   "nbconvert_exporter": "python",
   "pygments_lexer": "ipython3",
   "version": "3.8.5"
  }
 },
 "nbformat": 4,
 "nbformat_minor": 2
}
